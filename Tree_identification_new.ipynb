{
 "cells": [
  {
   "cell_type": "code",
   "execution_count": 1,
   "id": "c1344cc6",
   "metadata": {},
   "outputs": [
    {
     "name": "stdout",
     "output_type": "stream",
     "text": [
      "Jupyter environment detected. Enabling Open3D WebVisualizer.\n",
      "[Open3D INFO] WebRTC GUI backend enabled.\n",
      "[Open3D INFO] WebRTCWindowSystem: HTTP handshake server disabled.\n"
     ]
    }
   ],
   "source": [
    "import os\n",
    "import numpy as np\n",
    "import pyvista as pv\n",
    "from sklearn.cluster import DBSCAN\n",
    "import open3d as o3d"
   ]
  },
  {
   "cell_type": "code",
   "execution_count": 2,
   "id": "943090b8",
   "metadata": {},
   "outputs": [
    {
     "name": "stderr",
     "output_type": "stream",
     "text": [
      "C:\\Users\\draks\\AppData\\Roaming\\Python\\Python39\\site-packages\\pyvista\\jupyter\\notebook.py:58: UserWarning: Failed to use notebook backend: \n",
      "\n",
      "No module named 'trame'\n",
      "\n",
      "Falling back to a static output.\n",
      "  warnings.warn(\n"
     ]
    },
    {
     "data": {
      "image/png": "[encoded data removed]",
      "text/plain": [
       "<PIL.Image.Image image mode=RGB size=1024x768>"
      ]
     },
     "metadata": {},
     "output_type": "display_data"
    }
   ],
   "source": [
    "# define the directory containing the XYZ files\n",
    "directory = 'D:/Helios-Automated_XML/Results/1st-points'\n",
    "\n",
    "# get a list of file names in the directory\n",
    "file_names = os.listdir('D:/Helios-Automated_XML/Results/1st-points')\n",
    "\n",
    "# create an empty list to hold the PyVista objects\n",
    "mesh_list = []\n",
    "\n",
    "# loop over each file and read it into a PyVista object\n",
    "for file_name in file_names:\n",
    "    # check if the file is an XYZ file\n",
    "    if file_name.endswith('.xyz'):\n",
    "        # construct the full file path\n",
    "        file_path = os.path.join(directory, file_name)\n",
    "\n",
    "        # read the XYZ file into a numpy array, using only the first 3 columns\n",
    "        points = np.loadtxt(file_path, usecols=(0, 1, 2))\n",
    "\n",
    "        # create a PyVista points object from the numpy array\n",
    "        mesh = pv.PolyData(points)\n",
    "\n",
    "        # add the mesh to the list\n",
    "        mesh_list.append(mesh)\n",
    "\n",
    "# merge the meshes into a single PyVista object\n",
    "merged_mesh = pv.MultiBlock(mesh_list).combine()\n",
    "\n",
    "# display the merged mesh\n",
    "merged_mesh.plot()"
   ]
  },
  {
   "cell_type": "code",
   "execution_count": 3,
   "id": "5b4f5ecc",
   "metadata": {},
   "outputs": [],
   "source": [
    "from vtk import vtkPLYWriter\n",
    "\n",
    "# Create a PLY writer\n",
    "writer = vtkPLYWriter()\n",
    "\n",
    "# Set the input datahttp://localhost:8888/notebooks/Tree_identfication.ipynb#\n",
    "writer.SetInputData(mesh)\n",
    "\n",
    "# Set the file name and save the mesh to PLY\n",
    "writer.SetFileName(\"D:/Helios-Automated_XML/Results/1st-points/mesh.ply\")\n",
    "writer.Update()"
   ]
  },
  {
   "cell_type": "code",
   "execution_count": null,
   "id": "8a2e55e6",
   "metadata": {},
   "outputs": [],
   "source": [
    "# Step 1: Preprocessing\n",
    "pcd = o3d.io.read_point_cloud(\"D:/Helios-Automated_XML/Results/1st-points/mesh.ply\")\n",
    "ground_removed_pcd, ind = pcd.remove_statistical_outlier(nb_neighbors=20,std_ratio=2.0)\n",
    "ground_removed_pcd = ground_removed_pcd.voxel_down_sample(voxel_size=0.2)\n",
    "ground_plane = ground_removed_pcd.segment_plane(distance_threshold=0.2,ransac_n=3, num_iterations=1000)\n",
    "inliers = np.asarray(ground_removed_pcd.voxel_down_sample(voxel_size=0.2).select_by_index(np.array(ind)[ground_plane[1]])).reshape(-1, 3)\n",
    "outliers = np.asarray(ground_removed_pcd.voxel_down_sample(np.array(ind)[ground_plane[1]], invert=True)).reshape(-1, 3)\n",
    "\n",
    "# Step 2: Segmentation\n",
    "clustering = DBSCAN(eps=0.6, min_samples=10).fit(outliers)\n",
    "labels = clustering.labels_\n",
    "max_label = labels.max()\n",
    "trees = []\n",
    "for i in range(max_label + 1):\n",
    "    mask = labels == i\n",
    "    if np.sum(mask) > 0:\n",
    "        trees.append(outliers[mask])\n",
    "\n",
    "# Step 3: Crown delineation\n",
    "crowns = []\n",
    "for i in range(len(trees)):\n",
    "    tree = trees[i]\n",
    "    tree_pcd = o3d.geometry.PointCloud()\n",
    "    tree_pcd.points = o3d.utility.Vector3dVector(tree)\n",
    "    distances = tree_pcd.compute_nearest_neighbor_distance()\n",
    "    avg_distance = np.mean(distances)\n",
    "    radii = [1.5 * avg_distance, 2.0 * avg_distance]\n",
    "    _, points_idx = tree_pcd.hidden_point_removal(np.asarray(radii))\n",
    "    crown = np.asarray(tree_pcd.select_down_sample(points_idx).points)\n",
    "    crowns.append(crown)\n",
    "\n",
    "# Step 4: Crown modeling\n",
    "models = []\n",
    "for i in range(len(crowns)):\n",
    "    crown = crowns[i]\n",
    "    alpha_shape = o3d.geometry.TriangleMesh.create_from_point_cloud_alpha_shape(o3d.geometry.PointCloud(o3d.utility.Vector3dVector(crown)), alpha=1.0)\n",
    "    model = np.asarray(alpha_shape.vertices)\n",
    "    models.append(model)\n",
    "\n",
    "# Step 5: Crown characterization\n",
    "volumes = []\n",
    "for i in range(len(models)):\n",
    "    model = models[i]\n",
    "    hull = ConvexHull(model)\n",
    "    volume = hull.volume\n",
    "    volumes.append(volume)\n",
    "\n",
    "# Step 6: Crown classification\n",
    "classes = []\n",
    "for i in range(len(volumes)):\n",
    "    volume = volumes[i]\n",
    "    if volume < 10:\n",
    "        classes.append(\"small\")\n",
    "    elif volume >= 10 and volume < 100:\n",
    "        classes.append(\"medium\")\n",
    "    else:\n",
    "        classes.append(\"large\")\n",
    "\n",
    "# Step 7: Crown mapping\n",
    "tree_crowns = {}\n",
    "for i in range(len(crowns)):\n",
    "    tree_crowns[i] = {\"crown\": crowns[i], \"class\": classes[i]}\n"
   ]
  },
  {
   "cell_type": "code",
   "execution_count": null,
   "id": "54d2dad3",
   "metadata": {},
   "outputs": [],
   "source": []
  }
 ],
 "metadata": {
  "kernelspec": {
   "display_name": "Python 3",
   "language": "python",
   "name": "python3"
  },
  "language_info": {
   "codemirror_mode": {
    "name": "ipython",
    "version": 3
   },
   "file_extension": ".py",
   "mimetype": "text/x-python",
   "name": "python",
   "nbconvert_exporter": "python",
   "pygments_lexer": "ipython3",
   "version": "3.9.11"
  }
 },
 "nbformat": 4,
 "nbformat_minor": 5
}
